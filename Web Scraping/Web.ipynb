{
 "cells": [
  {
   "cell_type": "code",
   "execution_count": 1,
   "metadata": {},
   "outputs": [
    {
     "name": "stdout",
     "output_type": "stream",
     "text": [
      " * Serving Flask app \"__main__\" (lazy loading)\n",
      " * Environment: production\n",
      "   WARNING: Do not use the development server in a production environment.\n",
      "   Use a production WSGI server instead.\n",
      " * Debug mode: off\n"
     ]
    },
    {
     "name": "stderr",
     "output_type": "stream",
     "text": [
      " * Running on http://127.0.0.1:5000/ (Press CTRL+C to quit)\n",
      "127.0.0.1 - - [06/May/2019 19:00:21] \"GET / HTTP/1.1\" 200 -\n"
     ]
    },
    {
     "name": "stdout",
     "output_type": "stream",
     "text": [
      "InSight sol 156 (2019-05-05) low -99.2ºC (-146.6ºF) high -18.1ºC (-0.6ºF)\n",
      "winds from the SW at 4.7 m/s (10.5 mph) gusting to 13.8 m/s (30.8 mph)\n",
      "pressure at 7.40 hPapic.twitter.com/FlGDeYg8hi\n"
     ]
    },
    {
     "name": "stderr",
     "output_type": "stream",
     "text": [
      "C:\\Users\\Sisay\\Anaconda3\\lib\\site-packages\\ipykernel_launcher.py:51: DeprecationWarning: update is deprecated. Use replace_one, update_one or update_many instead.\n",
      "127.0.0.1 - - [06/May/2019 19:01:28] \"GET /scrape HTTP/1.1\" 200 -\n"
     ]
    }
   ],
   "source": [
    "# Import Dependencies \n",
    "from flask import Flask, render_template, redirect \n",
    "from flask_pymongo import PyMongo\n",
    "import scrape_mars\n",
    "import os\n",
    "import pymongo\n",
    "\n",
    "# Create an instance of Flask app\n",
    "app = Flask(__name__)\n",
    "\n",
    "# Use flask_pymongo to set up mongo connection locally \n",
    "conn = 'mongodb://localhost:27017'\n",
    "client = pymongo.MongoClient(conn)\n",
    "# connect to a database\n",
    "db = client.mars_app\n",
    "\n",
    "#Drop collection if avaible to remove duplates \n",
    "#db.mars_info.drop()\n",
    "\n",
    "@app.route(\"/\")\n",
    "def index(): \n",
    "    # Return template and data\n",
    "    # Find data\n",
    "    mars_info_data = db.mars.find_one()\n",
    "    return render_template(\"index.html\", mars_info=mars_info_data)\n",
    "\n",
    "@app.route(\"/scrape\")\n",
    "def scrape():\n",
    "    try:\n",
    "        mars_news = scrape_mars.scrape_mars_news()\n",
    "        mars_image = scrape_mars.scrape_mars_image()\n",
    "        mars_facts = scrape_mars.scrape_mars_facts()\n",
    "        mars_weather = scrape_mars.scrape_mars_weather()\n",
    "        data = scrape_mars.scrape_mars_facts()\n",
    "        mars_hemispheres = scrape_mars.scrape_mars_hemispheres()   \n",
    "\n",
    "        # Create Mission to Mars dictionary, which will be imported into Mongo\n",
    "        mars_info = {}   \n",
    "\n",
    "        # Dictionary entry from MARS NEWS\n",
    "        mars_info['news_title'] = mars_news[0]\n",
    "        mars_info['news_paragraph'] = mars_news[1]\n",
    "        # Dictionary entry from fetured image created in line 14\n",
    "        mars_info['featured_image_url'] = mars_image \n",
    "        # Dictionary entry from Weather twitts \n",
    "        mars_info['weather_tweet'] = mars_weather\n",
    "        # Dictionary entry from MARS FACTS\n",
    "        mars_info['mars_facts'] = data\n",
    "        mars_info['hiu'] = mars_hemispheres\n",
    "\n",
    "        db.mars.update({}, mars_info, upsert=True)\n",
    "        mars_info_data = db.mars.find_one()\n",
    "    except:\n",
    "        mars_info_data = db.mars.find_one() \n",
    "\n",
    "    return render_template(\"index.html\", mars_info=mars_info_data)\n",
    "\n",
    "if __name__ == \"__main__\": \n",
    "    app.run(debug=False)"
   ]
  },
  {
   "cell_type": "code",
   "execution_count": null,
   "metadata": {},
   "outputs": [],
   "source": []
  }
 ],
 "metadata": {
  "jupytext": {
   "main_language": "python"
  },
  "kernelspec": {
   "display_name": "Python 3",
   "language": "python",
   "name": "python3"
  },
  "language_info": {
   "codemirror_mode": {
    "name": "ipython",
    "version": 3
   },
   "file_extension": ".py",
   "mimetype": "text/x-python",
   "name": "python",
   "nbconvert_exporter": "python",
   "pygments_lexer": "ipython3",
   "version": "3.7.1"
  }
 },
 "nbformat": 4,
 "nbformat_minor": 2
}
