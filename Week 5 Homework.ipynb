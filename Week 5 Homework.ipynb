{
 "cells": [
  {
   "cell_type": "code",
   "execution_count": 242,
   "metadata": {},
   "outputs": [],
   "source": [
    "\n",
    "import pandas as pd\n",
    "import matplotlib.pyplot as plt\n",
    "import numpy as np\n",
    "from scipy import stats"
   ]
  },
  {
   "cell_type": "markdown",
   "metadata": {},
   "source": [
    "## Importing and Merging the Two DataFrames"
   ]
  },
  {
   "cell_type": "code",
   "execution_count": 243,
   "metadata": {},
   "outputs": [],
   "source": [
    "#Importing the two data frames \n",
    "Clinical_Trial = pd.read_csv (\"C:/Users/Sisay/Desktop/Resources/clinicaltrial_data.csv\")\n",
    "Mouse_Drug = pd.read_csv (\"C:/Users/Sisay/Desktop/Resources/mouse_drug_data.csv\")"
   ]
  },
  {
   "cell_type": "code",
   "execution_count": 244,
   "metadata": {},
   "outputs": [
    {
     "data": {
      "text/html": [
       "<div>\n",
       "<style scoped>\n",
       "    .dataframe tbody tr th:only-of-type {\n",
       "        vertical-align: middle;\n",
       "    }\n",
       "\n",
       "    .dataframe tbody tr th {\n",
       "        vertical-align: top;\n",
       "    }\n",
       "\n",
       "    .dataframe thead th {\n",
       "        text-align: right;\n",
       "    }\n",
       "</style>\n",
       "<table border=\"1\" class=\"dataframe\">\n",
       "  <thead>\n",
       "    <tr style=\"text-align: right;\">\n",
       "      <th></th>\n",
       "      <th>Mouse ID</th>\n",
       "      <th>Timepoint</th>\n",
       "      <th>Tumor Volume (mm3)</th>\n",
       "      <th>Metastatic Sites</th>\n",
       "    </tr>\n",
       "  </thead>\n",
       "  <tbody>\n",
       "    <tr>\n",
       "      <th>0</th>\n",
       "      <td>b128</td>\n",
       "      <td>0</td>\n",
       "      <td>45.0</td>\n",
       "      <td>0</td>\n",
       "    </tr>\n",
       "    <tr>\n",
       "      <th>1</th>\n",
       "      <td>f932</td>\n",
       "      <td>0</td>\n",
       "      <td>45.0</td>\n",
       "      <td>0</td>\n",
       "    </tr>\n",
       "    <tr>\n",
       "      <th>2</th>\n",
       "      <td>g107</td>\n",
       "      <td>0</td>\n",
       "      <td>45.0</td>\n",
       "      <td>0</td>\n",
       "    </tr>\n",
       "    <tr>\n",
       "      <th>3</th>\n",
       "      <td>a457</td>\n",
       "      <td>0</td>\n",
       "      <td>45.0</td>\n",
       "      <td>0</td>\n",
       "    </tr>\n",
       "    <tr>\n",
       "      <th>4</th>\n",
       "      <td>c819</td>\n",
       "      <td>0</td>\n",
       "      <td>45.0</td>\n",
       "      <td>0</td>\n",
       "    </tr>\n",
       "  </tbody>\n",
       "</table>\n",
       "</div>"
      ],
      "text/plain": [
       "  Mouse ID  Timepoint  Tumor Volume (mm3)  Metastatic Sites\n",
       "0     b128          0                45.0                 0\n",
       "1     f932          0                45.0                 0\n",
       "2     g107          0                45.0                 0\n",
       "3     a457          0                45.0                 0\n",
       "4     c819          0                45.0                 0"
      ]
     },
     "execution_count": 244,
     "metadata": {},
     "output_type": "execute_result"
    }
   ],
   "source": [
    "Clinical_Trial.head()"
   ]
  },
  {
   "cell_type": "code",
   "execution_count": 245,
   "metadata": {},
   "outputs": [
    {
     "data": {
      "text/html": [
       "<div>\n",
       "<style scoped>\n",
       "    .dataframe tbody tr th:only-of-type {\n",
       "        vertical-align: middle;\n",
       "    }\n",
       "\n",
       "    .dataframe tbody tr th {\n",
       "        vertical-align: top;\n",
       "    }\n",
       "\n",
       "    .dataframe thead th {\n",
       "        text-align: right;\n",
       "    }\n",
       "</style>\n",
       "<table border=\"1\" class=\"dataframe\">\n",
       "  <thead>\n",
       "    <tr style=\"text-align: right;\">\n",
       "      <th></th>\n",
       "      <th>Mouse ID</th>\n",
       "      <th>Drug</th>\n",
       "    </tr>\n",
       "  </thead>\n",
       "  <tbody>\n",
       "    <tr>\n",
       "      <th>0</th>\n",
       "      <td>f234</td>\n",
       "      <td>Stelasyn</td>\n",
       "    </tr>\n",
       "    <tr>\n",
       "      <th>1</th>\n",
       "      <td>x402</td>\n",
       "      <td>Stelasyn</td>\n",
       "    </tr>\n",
       "    <tr>\n",
       "      <th>2</th>\n",
       "      <td>a492</td>\n",
       "      <td>Stelasyn</td>\n",
       "    </tr>\n",
       "    <tr>\n",
       "      <th>3</th>\n",
       "      <td>w540</td>\n",
       "      <td>Stelasyn</td>\n",
       "    </tr>\n",
       "    <tr>\n",
       "      <th>4</th>\n",
       "      <td>v764</td>\n",
       "      <td>Stelasyn</td>\n",
       "    </tr>\n",
       "  </tbody>\n",
       "</table>\n",
       "</div>"
      ],
      "text/plain": [
       "  Mouse ID      Drug\n",
       "0     f234  Stelasyn\n",
       "1     x402  Stelasyn\n",
       "2     a492  Stelasyn\n",
       "3     w540  Stelasyn\n",
       "4     v764  Stelasyn"
      ]
     },
     "execution_count": 245,
     "metadata": {},
     "output_type": "execute_result"
    }
   ],
   "source": [
    "Mouse_Drug.head()"
   ]
  },
  {
   "cell_type": "code",
   "execution_count": 246,
   "metadata": {},
   "outputs": [
    {
     "data": {
      "text/plain": [
       "(1893, 4)"
      ]
     },
     "execution_count": 246,
     "metadata": {},
     "output_type": "execute_result"
    }
   ],
   "source": [
    "Clinical_Trial.shape"
   ]
  },
  {
   "cell_type": "code",
   "execution_count": 247,
   "metadata": {},
   "outputs": [
    {
     "data": {
      "text/plain": [
       "(250, 2)"
      ]
     },
     "execution_count": 247,
     "metadata": {},
     "output_type": "execute_result"
    }
   ],
   "source": [
    "Mouse_Drug.shape\n"
   ]
  },
  {
   "cell_type": "code",
   "execution_count": 248,
   "metadata": {},
   "outputs": [
    {
     "data": {
      "text/html": [
       "<div>\n",
       "<style scoped>\n",
       "    .dataframe tbody tr th:only-of-type {\n",
       "        vertical-align: middle;\n",
       "    }\n",
       "\n",
       "    .dataframe tbody tr th {\n",
       "        vertical-align: top;\n",
       "    }\n",
       "\n",
       "    .dataframe thead th {\n",
       "        text-align: right;\n",
       "    }\n",
       "</style>\n",
       "<table border=\"1\" class=\"dataframe\">\n",
       "  <thead>\n",
       "    <tr style=\"text-align: right;\">\n",
       "      <th></th>\n",
       "      <th>Mouse ID</th>\n",
       "      <th>Timepoint</th>\n",
       "      <th>Tumor Volume (mm3)</th>\n",
       "      <th>Metastatic Sites</th>\n",
       "      <th>Drug</th>\n",
       "    </tr>\n",
       "  </thead>\n",
       "  <tbody>\n",
       "    <tr>\n",
       "      <th>0</th>\n",
       "      <td>b128</td>\n",
       "      <td>0</td>\n",
       "      <td>45.000000</td>\n",
       "      <td>0</td>\n",
       "      <td>Capomulin</td>\n",
       "    </tr>\n",
       "    <tr>\n",
       "      <th>1</th>\n",
       "      <td>b128</td>\n",
       "      <td>5</td>\n",
       "      <td>45.651331</td>\n",
       "      <td>0</td>\n",
       "      <td>Capomulin</td>\n",
       "    </tr>\n",
       "    <tr>\n",
       "      <th>2</th>\n",
       "      <td>b128</td>\n",
       "      <td>10</td>\n",
       "      <td>43.270852</td>\n",
       "      <td>0</td>\n",
       "      <td>Capomulin</td>\n",
       "    </tr>\n",
       "    <tr>\n",
       "      <th>3</th>\n",
       "      <td>b128</td>\n",
       "      <td>15</td>\n",
       "      <td>43.784893</td>\n",
       "      <td>0</td>\n",
       "      <td>Capomulin</td>\n",
       "    </tr>\n",
       "    <tr>\n",
       "      <th>4</th>\n",
       "      <td>b128</td>\n",
       "      <td>20</td>\n",
       "      <td>42.731552</td>\n",
       "      <td>0</td>\n",
       "      <td>Capomulin</td>\n",
       "    </tr>\n",
       "  </tbody>\n",
       "</table>\n",
       "</div>"
      ],
      "text/plain": [
       "  Mouse ID  Timepoint  Tumor Volume (mm3)  Metastatic Sites       Drug\n",
       "0     b128          0           45.000000                 0  Capomulin\n",
       "1     b128          5           45.651331                 0  Capomulin\n",
       "2     b128         10           43.270852                 0  Capomulin\n",
       "3     b128         15           43.784893                 0  Capomulin\n",
       "4     b128         20           42.731552                 0  Capomulin"
      ]
     },
     "execution_count": 248,
     "metadata": {},
     "output_type": "execute_result"
    }
   ],
   "source": [
    "# Merging the two dataframe  (inner join)\n",
    "Merged_Data = pd.merge(Clinical_Trial, Mouse_Drug, on=\"Mouse ID\", how=\"inner\")\n",
    "Merged_Data.head()"
   ]
  },
  {
   "cell_type": "markdown",
   "metadata": {},
   "source": [
    "### Describing the dataframe and data wrangling"
   ]
  },
  {
   "cell_type": "code",
   "execution_count": 249,
   "metadata": {},
   "outputs": [
    {
     "data": {
      "text/html": [
       "<div>\n",
       "<style scoped>\n",
       "    .dataframe tbody tr th:only-of-type {\n",
       "        vertical-align: middle;\n",
       "    }\n",
       "\n",
       "    .dataframe tbody tr th {\n",
       "        vertical-align: top;\n",
       "    }\n",
       "\n",
       "    .dataframe thead th {\n",
       "        text-align: right;\n",
       "    }\n",
       "</style>\n",
       "<table border=\"1\" class=\"dataframe\">\n",
       "  <thead>\n",
       "    <tr style=\"text-align: right;\">\n",
       "      <th></th>\n",
       "      <th>Timepoint</th>\n",
       "      <th>Tumor Volume (mm3)</th>\n",
       "      <th>Metastatic Sites</th>\n",
       "    </tr>\n",
       "  </thead>\n",
       "  <tbody>\n",
       "    <tr>\n",
       "      <th>count</th>\n",
       "      <td>1906.000000</td>\n",
       "      <td>1906.000000</td>\n",
       "      <td>1906.000000</td>\n",
       "    </tr>\n",
       "    <tr>\n",
       "      <th>mean</th>\n",
       "      <td>19.538300</td>\n",
       "      <td>50.468120</td>\n",
       "      <td>1.018363</td>\n",
       "    </tr>\n",
       "    <tr>\n",
       "      <th>std</th>\n",
       "      <td>14.064786</td>\n",
       "      <td>8.869571</td>\n",
       "      <td>1.135991</td>\n",
       "    </tr>\n",
       "    <tr>\n",
       "      <th>min</th>\n",
       "      <td>0.000000</td>\n",
       "      <td>22.050126</td>\n",
       "      <td>0.000000</td>\n",
       "    </tr>\n",
       "    <tr>\n",
       "      <th>25%</th>\n",
       "      <td>5.000000</td>\n",
       "      <td>45.000000</td>\n",
       "      <td>0.000000</td>\n",
       "    </tr>\n",
       "    <tr>\n",
       "      <th>50%</th>\n",
       "      <td>20.000000</td>\n",
       "      <td>48.991921</td>\n",
       "      <td>1.000000</td>\n",
       "    </tr>\n",
       "    <tr>\n",
       "      <th>75%</th>\n",
       "      <td>30.000000</td>\n",
       "      <td>56.288484</td>\n",
       "      <td>2.000000</td>\n",
       "    </tr>\n",
       "    <tr>\n",
       "      <th>max</th>\n",
       "      <td>45.000000</td>\n",
       "      <td>78.567014</td>\n",
       "      <td>4.000000</td>\n",
       "    </tr>\n",
       "  </tbody>\n",
       "</table>\n",
       "</div>"
      ],
      "text/plain": [
       "         Timepoint  Tumor Volume (mm3)  Metastatic Sites\n",
       "count  1906.000000         1906.000000       1906.000000\n",
       "mean     19.538300           50.468120          1.018363\n",
       "std      14.064786            8.869571          1.135991\n",
       "min       0.000000           22.050126          0.000000\n",
       "25%       5.000000           45.000000          0.000000\n",
       "50%      20.000000           48.991921          1.000000\n",
       "75%      30.000000           56.288484          2.000000\n",
       "max      45.000000           78.567014          4.000000"
      ]
     },
     "execution_count": 249,
     "metadata": {},
     "output_type": "execute_result"
    }
   ],
   "source": [
    "#Descriptive statstics the new dataframe \n",
    "Merged_Data.describe()"
   ]
  },
  {
   "cell_type": "code",
   "execution_count": 250,
   "metadata": {},
   "outputs": [
    {
     "data": {
      "text/html": [
       "<div>\n",
       "<style scoped>\n",
       "    .dataframe tbody tr th:only-of-type {\n",
       "        vertical-align: middle;\n",
       "    }\n",
       "\n",
       "    .dataframe tbody tr th {\n",
       "        vertical-align: top;\n",
       "    }\n",
       "\n",
       "    .dataframe thead th {\n",
       "        text-align: right;\n",
       "    }\n",
       "</style>\n",
       "<table border=\"1\" class=\"dataframe\">\n",
       "  <thead>\n",
       "    <tr style=\"text-align: right;\">\n",
       "      <th></th>\n",
       "      <th>Mouse ID</th>\n",
       "      <th>Drug</th>\n",
       "    </tr>\n",
       "  </thead>\n",
       "  <tbody>\n",
       "    <tr>\n",
       "      <th>count</th>\n",
       "      <td>1906</td>\n",
       "      <td>1906</td>\n",
       "    </tr>\n",
       "    <tr>\n",
       "      <th>unique</th>\n",
       "      <td>249</td>\n",
       "      <td>10</td>\n",
       "    </tr>\n",
       "    <tr>\n",
       "      <th>top</th>\n",
       "      <td>g989</td>\n",
       "      <td>Capomulin</td>\n",
       "    </tr>\n",
       "    <tr>\n",
       "      <th>freq</th>\n",
       "      <td>26</td>\n",
       "      <td>230</td>\n",
       "    </tr>\n",
       "  </tbody>\n",
       "</table>\n",
       "</div>"
      ],
      "text/plain": [
       "       Mouse ID       Drug\n",
       "count      1906       1906\n",
       "unique      249         10\n",
       "top        g989  Capomulin\n",
       "freq         26        230"
      ]
     },
     "execution_count": 250,
     "metadata": {},
     "output_type": "execute_result"
    }
   ],
   "source": [
    "Merged_Data.describe(include=['object'])"
   ]
  },
  {
   "cell_type": "code",
   "execution_count": 251,
   "metadata": {},
   "outputs": [
    {
     "data": {
      "text/html": [
       "<div>\n",
       "<style scoped>\n",
       "    .dataframe tbody tr th:only-of-type {\n",
       "        vertical-align: middle;\n",
       "    }\n",
       "\n",
       "    .dataframe tbody tr th {\n",
       "        vertical-align: top;\n",
       "    }\n",
       "\n",
       "    .dataframe thead th {\n",
       "        text-align: right;\n",
       "    }\n",
       "</style>\n",
       "<table border=\"1\" class=\"dataframe\">\n",
       "  <thead>\n",
       "    <tr style=\"text-align: right;\">\n",
       "      <th></th>\n",
       "      <th>Mouse ID</th>\n",
       "      <th>Timepoint</th>\n",
       "      <th>Tumor Volume (mm3)</th>\n",
       "      <th>Metastatic Sites</th>\n",
       "      <th>Drug</th>\n",
       "    </tr>\n",
       "  </thead>\n",
       "  <tbody>\n",
       "    <tr>\n",
       "      <th>count</th>\n",
       "      <td>1906</td>\n",
       "      <td>1906.000000</td>\n",
       "      <td>1906.000000</td>\n",
       "      <td>1906.000000</td>\n",
       "      <td>1906</td>\n",
       "    </tr>\n",
       "    <tr>\n",
       "      <th>unique</th>\n",
       "      <td>249</td>\n",
       "      <td>NaN</td>\n",
       "      <td>NaN</td>\n",
       "      <td>NaN</td>\n",
       "      <td>10</td>\n",
       "    </tr>\n",
       "    <tr>\n",
       "      <th>top</th>\n",
       "      <td>g989</td>\n",
       "      <td>NaN</td>\n",
       "      <td>NaN</td>\n",
       "      <td>NaN</td>\n",
       "      <td>Capomulin</td>\n",
       "    </tr>\n",
       "    <tr>\n",
       "      <th>freq</th>\n",
       "      <td>26</td>\n",
       "      <td>NaN</td>\n",
       "      <td>NaN</td>\n",
       "      <td>NaN</td>\n",
       "      <td>230</td>\n",
       "    </tr>\n",
       "    <tr>\n",
       "      <th>mean</th>\n",
       "      <td>NaN</td>\n",
       "      <td>19.538300</td>\n",
       "      <td>50.468120</td>\n",
       "      <td>1.018363</td>\n",
       "      <td>NaN</td>\n",
       "    </tr>\n",
       "    <tr>\n",
       "      <th>std</th>\n",
       "      <td>NaN</td>\n",
       "      <td>14.064786</td>\n",
       "      <td>8.869571</td>\n",
       "      <td>1.135991</td>\n",
       "      <td>NaN</td>\n",
       "    </tr>\n",
       "    <tr>\n",
       "      <th>min</th>\n",
       "      <td>NaN</td>\n",
       "      <td>0.000000</td>\n",
       "      <td>22.050126</td>\n",
       "      <td>0.000000</td>\n",
       "      <td>NaN</td>\n",
       "    </tr>\n",
       "    <tr>\n",
       "      <th>25%</th>\n",
       "      <td>NaN</td>\n",
       "      <td>5.000000</td>\n",
       "      <td>45.000000</td>\n",
       "      <td>0.000000</td>\n",
       "      <td>NaN</td>\n",
       "    </tr>\n",
       "    <tr>\n",
       "      <th>50%</th>\n",
       "      <td>NaN</td>\n",
       "      <td>20.000000</td>\n",
       "      <td>48.991921</td>\n",
       "      <td>1.000000</td>\n",
       "      <td>NaN</td>\n",
       "    </tr>\n",
       "    <tr>\n",
       "      <th>75%</th>\n",
       "      <td>NaN</td>\n",
       "      <td>30.000000</td>\n",
       "      <td>56.288484</td>\n",
       "      <td>2.000000</td>\n",
       "      <td>NaN</td>\n",
       "    </tr>\n",
       "    <tr>\n",
       "      <th>max</th>\n",
       "      <td>NaN</td>\n",
       "      <td>45.000000</td>\n",
       "      <td>78.567014</td>\n",
       "      <td>4.000000</td>\n",
       "      <td>NaN</td>\n",
       "    </tr>\n",
       "  </tbody>\n",
       "</table>\n",
       "</div>"
      ],
      "text/plain": [
       "       Mouse ID    Timepoint  Tumor Volume (mm3)  Metastatic Sites       Drug\n",
       "count      1906  1906.000000         1906.000000       1906.000000       1906\n",
       "unique      249          NaN                 NaN               NaN         10\n",
       "top        g989          NaN                 NaN               NaN  Capomulin\n",
       "freq         26          NaN                 NaN               NaN        230\n",
       "mean        NaN    19.538300           50.468120          1.018363        NaN\n",
       "std         NaN    14.064786            8.869571          1.135991        NaN\n",
       "min         NaN     0.000000           22.050126          0.000000        NaN\n",
       "25%         NaN     5.000000           45.000000          0.000000        NaN\n",
       "50%         NaN    20.000000           48.991921          1.000000        NaN\n",
       "75%         NaN    30.000000           56.288484          2.000000        NaN\n",
       "max         NaN    45.000000           78.567014          4.000000        NaN"
      ]
     },
     "execution_count": 251,
     "metadata": {},
     "output_type": "execute_result"
    }
   ],
   "source": [
    "Merged_Data.describe(include='all')"
   ]
  },
  {
   "cell_type": "code",
   "execution_count": 252,
   "metadata": {},
   "outputs": [
    {
     "name": "stdout",
     "output_type": "stream",
     "text": [
      "<class 'pandas.core.frame.DataFrame'>\n",
      "Int64Index: 1906 entries, 0 to 1905\n",
      "Data columns (total 5 columns):\n",
      "Mouse ID              1906 non-null object\n",
      "Timepoint             1906 non-null int64\n",
      "Tumor Volume (mm3)    1906 non-null float64\n",
      "Metastatic Sites      1906 non-null int64\n",
      "Drug                  1906 non-null object\n",
      "dtypes: float64(1), int64(2), object(2)\n",
      "memory usage: 89.3+ KB\n"
     ]
    }
   ],
   "source": [
    "Merged_Data.info()"
   ]
  },
  {
   "cell_type": "markdown",
   "metadata": {},
   "source": [
    "#### Preapring dataframe to create a scatter plot that shows tumor volume changes over time for each treatment\n"
   ]
  },
  {
   "cell_type": "code",
   "execution_count": 253,
   "metadata": {},
   "outputs": [
    {
     "data": {
      "text/html": [
       "<div>\n",
       "<style scoped>\n",
       "    .dataframe tbody tr th:only-of-type {\n",
       "        vertical-align: middle;\n",
       "    }\n",
       "\n",
       "    .dataframe tbody tr th {\n",
       "        vertical-align: top;\n",
       "    }\n",
       "\n",
       "    .dataframe thead th {\n",
       "        text-align: right;\n",
       "    }\n",
       "</style>\n",
       "<table border=\"1\" class=\"dataframe\">\n",
       "  <thead>\n",
       "    <tr style=\"text-align: right;\">\n",
       "      <th></th>\n",
       "      <th></th>\n",
       "      <th>Tumor Volume (mm3)</th>\n",
       "      <th>Metastatic Sites</th>\n",
       "    </tr>\n",
       "    <tr>\n",
       "      <th>Drug</th>\n",
       "      <th>Timepoint</th>\n",
       "      <th></th>\n",
       "      <th></th>\n",
       "    </tr>\n",
       "  </thead>\n",
       "  <tbody>\n",
       "    <tr>\n",
       "      <th rowspan=\"5\" valign=\"top\">Capomulin</th>\n",
       "      <th>0</th>\n",
       "      <td>45.00</td>\n",
       "      <td>0.00</td>\n",
       "    </tr>\n",
       "    <tr>\n",
       "      <th>5</th>\n",
       "      <td>44.27</td>\n",
       "      <td>0.16</td>\n",
       "    </tr>\n",
       "    <tr>\n",
       "      <th>10</th>\n",
       "      <td>43.08</td>\n",
       "      <td>0.32</td>\n",
       "    </tr>\n",
       "    <tr>\n",
       "      <th>15</th>\n",
       "      <td>42.06</td>\n",
       "      <td>0.38</td>\n",
       "    </tr>\n",
       "    <tr>\n",
       "      <th>20</th>\n",
       "      <td>40.72</td>\n",
       "      <td>0.65</td>\n",
       "    </tr>\n",
       "  </tbody>\n",
       "</table>\n",
       "</div>"
      ],
      "text/plain": [
       "                     Tumor Volume (mm3)  Metastatic Sites\n",
       "Drug      Timepoint                                      \n",
       "Capomulin 0                       45.00              0.00\n",
       "          5                       44.27              0.16\n",
       "          10                      43.08              0.32\n",
       "          15                      42.06              0.38\n",
       "          20                      40.72              0.65"
      ]
     },
     "execution_count": 253,
     "metadata": {},
     "output_type": "execute_result"
    }
   ],
   "source": [
    "Drug_Time_Treat = Merged_Data.groupby([\"Drug\", \"Timepoint\"]).mean().round(2)\n",
    "Drug_Time_Treat.head()"
   ]
  },
  {
   "cell_type": "code",
   "execution_count": 254,
   "metadata": {},
   "outputs": [],
   "source": [
    "# Setting the x axis from 0 to 45 in increments of 5\n",
    "timepoints = np.arange(0, 50, 5)"
   ]
  },
  {
   "cell_type": "code",
   "execution_count": 255,
   "metadata": {},
   "outputs": [
    {
     "data": {
      "text/plain": [
       "['Capomulin', 'Ceftamin', 'Infubinol', 'Ramicane', 'Placebo', 'Zoniferol']"
      ]
     },
     "execution_count": 255,
     "metadata": {},
     "output_type": "execute_result"
    }
   ],
   "source": [
    "Drug_list = [\"Capomulin\", \"Ceftamin\", \"Infubinol\", \"Ramicane\", \"Placebo\", \"Zoniferol\"]\n",
    "Drug_list"
   ]
  },
  {
   "cell_type": "code",
   "execution_count": 256,
   "metadata": {},
   "outputs": [
    {
     "data": {
      "text/plain": [
       "Drug       Timepoint\n",
       "Capomulin  0            45.00\n",
       "           5            44.27\n",
       "           10           43.08\n",
       "           15           42.06\n",
       "           20           40.72\n",
       "           25           39.94\n",
       "           30           38.77\n",
       "           35           37.82\n",
       "           40           36.96\n",
       "           45           36.24\n",
       "Ceftamin   0            45.00\n",
       "           5            46.50\n",
       "           10           48.29\n",
       "           15           50.09\n",
       "           20           52.16\n",
       "           25           54.29\n",
       "           30           56.77\n",
       "           35           58.83\n",
       "           40           61.47\n",
       "           45           64.13\n",
       "Infubinol  0            45.00\n",
       "           5            47.06\n",
       "           10           49.40\n",
       "           15           51.30\n",
       "           20           53.20\n",
       "           25           55.72\n",
       "           30           58.30\n",
       "           35           60.74\n",
       "           40           63.16\n",
       "           45           65.76\n",
       "                        ...  \n",
       "Ramicane   0            45.00\n",
       "           5            43.94\n",
       "           10           42.53\n",
       "           15           41.50\n",
       "           20           40.24\n",
       "           25           38.97\n",
       "           30           38.70\n",
       "           35           37.45\n",
       "           40           36.57\n",
       "           45           34.96\n",
       "Stelasyn   0            45.00\n",
       "           5            47.53\n",
       "           10           49.46\n",
       "           15           51.53\n",
       "           20           54.07\n",
       "           25           56.17\n",
       "           30           59.83\n",
       "           35           62.44\n",
       "           40           65.36\n",
       "           45           68.44\n",
       "Zoniferol  0            45.00\n",
       "           5            46.85\n",
       "           10           48.69\n",
       "           15           50.78\n",
       "           20           53.17\n",
       "           25           55.43\n",
       "           30           57.71\n",
       "           35           60.09\n",
       "           40           62.92\n",
       "           45           65.96\n",
       "Name: Tumor Volume (mm3), Length: 100, dtype: float64"
      ]
     },
     "execution_count": 256,
     "metadata": {},
     "output_type": "execute_result"
    }
   ],
   "source": [
    "#Tumor avarge by drug and timepoint\n",
    "TumAvarage = Drug_Time_Treat[\"Tumor Volume (mm3)\"]\n",
    "TumAvarage"
   ]
  },
  {
   "cell_type": "code",
   "execution_count": 257,
   "metadata": {},
   "outputs": [],
   "source": [
    "#Tumor volume by drug types \n",
    "Cap_tumor_vol_avg = TumAvarage.loc[\"Capomulin\", :]\n",
    "Cef_tumor_vol_avg = TumAvarage.loc[\"Ceftamin\", :]\n",
    "Inf_tumor_vol_avg = TumAvarage.loc[\"Infubinol\", :]\n",
    "Ram_tumor_vol_avg = TumAvarage.loc[\"Ramicane\", :]\n",
    "Ste_tumor_vol_avg = TumAvarage.loc[\"Stelasyn\", :]\n",
    "Zon_tumor_vol_avg = TumAvarage.loc[\"Zoniferol\", :]"
   ]
  },
  {
   "cell_type": "code",
   "execution_count": 293,
   "metadata": {},
   "outputs": [
    {
     "data": {
      "image/png": "[encoded data removed]",
      "text/plain": [
       "<Figure size 432x288 with 1 Axes>"
      ]
     },
     "metadata": {
      "needs_background": "light"
     },
     "output_type": "display_data"
    }
   ],
   "source": [
    "#Scatter plot \n",
    "Cap_tumor_plot = plt.scatter(timepoints, Cap_tumor_vol_avg, marker = \">\", label = \"Capomulin\", alpha = 1)\n",
    "Cap_tumor_plot = plt.scatter(timepoints, Cef_tumor_vol_avg, marker = \"<\", label = \"Ceftamin\", alpha = 1)\n",
    "Ifo_tumor_plot = plt.scatter(timepoints, Inf_tumor_vol_avg, marker = \"<\", label = \"Infubinol\", alpha = 1)\n",
    "Ram_tumor_plot = plt.scatter(timepoints, Ram_tumor_vol_avg, marker = \">\", label = \"Ramicane\", alpha = 1)\n",
    "Ste_tumor_plot = plt.scatter(timepoints, Ste_tumor_vol_avg, marker = \"x\", label = \"Stelasyn\", alpha = 1)\n",
    "Zon_tumor_plot = plt.scatter(timepoints, Zon_tumor_vol_avg, marker = \"+\", label = \"Zoniferol\", alpha = 1)\n",
    "plt.title(\"Ave Tumor Volume by Treatments\")\n",
    "plt.xlabel(\"Days\")\n",
    "plt.ylabel(\"Tumor Volume (mm^3)\")\n",
    "plt.legend(loc=\"best\")\n",
    "\n",
    "plt.show()"
   ]
  },
  {
   "cell_type": "markdown",
   "metadata": {},
   "source": [
    "### Observations:\n",
    "* There is a linear postive relationship between Ceftamin and icreasing tumor volume overtime, Infubinol and icreasing tumor volume overtime,Stelasyn and icreasing tumor volume overtime, and Zoniferol and icreasing tumor volume overtime \n",
    "* There is a negative relationship between Ramicane and days, and Capomulin and days "
   ]
  },
  {
   "cell_type": "code",
   "execution_count": 294,
   "metadata": {},
   "outputs": [],
   "source": [
    "#Creating a scatter plot that shows the number\n",
    "#of metastatic (cancer spreading) sites changes over time for each treatment."
   ]
  },
  {
   "cell_type": "code",
   "execution_count": 295,
   "metadata": {},
   "outputs": [
    {
     "data": {
      "text/plain": [
       "Drug       Timepoint\n",
       "Capomulin  0            0.00\n",
       "           5            0.16\n",
       "           10           0.32\n",
       "           15           0.38\n",
       "           20           0.65\n",
       "Name: Metastatic Sites, dtype: float64"
      ]
     },
     "execution_count": 295,
     "metadata": {},
     "output_type": "execute_result"
    }
   ],
   "source": [
    "Mast_Avarage = Drug_Time_Treat[\"Metastatic Sites\"]\n",
    "Mast_Avarage.head()"
   ]
  },
  {
   "cell_type": "code",
   "execution_count": 296,
   "metadata": {},
   "outputs": [],
   "source": [
    "Cap_Mast_avg = Mast_Avarage.loc[\"Capomulin\", :]\n",
    "Cef_Mast_ave = Mast_Avarage.loc[\"Ceftamin\", :]\n",
    "Inf_Mast_avg = Mast_Avarage.loc[\"Infubinol\", :]\n",
    "Ram_Mast_avg = Mast_Avarage.loc[\"Ramicane\", :]\n",
    "Ste_Mast_avg = Mast_Avarage.loc[\"Stelasyn\", :]\n",
    "Zon_Mast_avg = Mast_Avarage.loc[\"Zoniferol\", :]"
   ]
  },
  {
   "cell_type": "code",
   "execution_count": 262,
   "metadata": {},
   "outputs": [
    {
     "data": {
      "text/plain": [
       "Drug       Timepoint\n",
       "Capomulin  0            0.00\n",
       "           5            0.16\n",
       "           10           0.32\n",
       "           15           0.38\n",
       "           20           0.65\n",
       "           25           0.82\n",
       "           30           1.09\n",
       "           35           1.18\n",
       "           40           1.38\n",
       "           45           1.48\n",
       "Name: Metastatic Sites, dtype: float64"
      ]
     },
     "execution_count": 262,
     "metadata": {},
     "output_type": "execute_result"
    }
   ],
   "source": [
    "Cap_Mast_avg"
   ]
  },
  {
   "cell_type": "code",
   "execution_count": 263,
   "metadata": {},
   "outputs": [
    {
     "data": {
      "text/plain": [
       "Drug       Timepoint\n",
       "Infubinol  0            0.00\n",
       "           5            0.28\n",
       "           10           0.67\n",
       "           15           0.90\n",
       "           20           1.05\n",
       "           25           1.28\n",
       "           30           1.59\n",
       "           35           1.67\n",
       "           40           2.10\n",
       "           45           2.11\n",
       "Name: Metastatic Sites, dtype: float64"
      ]
     },
     "execution_count": 263,
     "metadata": {},
     "output_type": "execute_result"
    }
   ],
   "source": [
    "Inf_Mast_avg"
   ]
  },
  {
   "cell_type": "code",
   "execution_count": 264,
   "metadata": {},
   "outputs": [
    {
     "data": {
      "image/png": "[encoded data removed]",
      "text/plain": [
       "<Figure size 432x288 with 1 Axes>"
      ]
     },
     "metadata": {
      "needs_background": "light"
     },
     "output_type": "display_data"
    }
   ],
   "source": [
    "Cap_Mast_plot = plt.scatter(timepoints, Cap_Mast_avg, marker = \">\", label = \"Capomulin\", alpha = .75)\n",
    "Cef_Mast_plot = plt.scatter(timepoints, Cef_Mast_ave, marker = \"<\", label = \"Ceftamin\", alpha = .75)\n",
    "Inf_Mast_plot = plt.scatter(timepoints, Inf_Mast_avg, marker = \"<\", label = \"Infubinol\", alpha = .75)\n",
    "Ram_Mast_plot = plt.scatter(timepoints, Ram_Mast_avg, marker = \">\", label = \"Ramicane\", alpha = .75)\n",
    "Ste_Mast_plot = plt.scatter(timepoints, Ste_Mast_avg, marker = \"x\", label = \"Stelasyn\", alpha = .75)\n",
    "Zon_Mast_plot = plt.scatter(timepoints, Zon_Mast_avg, marker = \"+\", label = \"Zoniferol\", alpha = .75)\n",
    "plt.title(\"Cancer Sprading Sites\")\n",
    "plt.xlabel(\"Days\")\n",
    "plt.ylabel(\"Types of Cancer\")\n",
    "plt.legend(loc=\"best\")\n",
    "\n",
    "plt.show()"
   ]
  },
  {
   "cell_type": "markdown",
   "metadata": {},
   "source": [
    "### Observations \n",
    "* There is a postive relatonship between each drugs and the spread of cancer overtime. "
   ]
  },
  {
   "cell_type": "markdown",
   "metadata": {},
   "source": [
    "#### Creating a scatter plot that shows the number of mice still alive through the course of treatment (Survival Rate)"
   ]
  },
  {
   "cell_type": "code",
   "execution_count": 265,
   "metadata": {},
   "outputs": [
    {
     "data": {
      "text/plain": [
       "Drug       Timepoint\n",
       "Capomulin  0            25\n",
       "           5            25\n",
       "           10           25\n",
       "           15           24\n",
       "           20           23\n",
       "Name: Timepoint, dtype: int64"
      ]
     },
     "execution_count": 265,
     "metadata": {},
     "output_type": "execute_result"
    }
   ],
   "source": [
    "#Group by dataframe to get survival count\n",
    "Survival_Count = Merged_Data.groupby([\"Drug\", \"Timepoint\"])[\"Timepoint\"].count()\n",
    "Survival_Count.head()"
   ]
  },
  {
   "cell_type": "code",
   "execution_count": 266,
   "metadata": {},
   "outputs": [],
   "source": [
    "#Converting survival count to datafrmae \n",
    "Survival_Count= pd.DataFrame(Survival_Count).rename(columns = {\"Timepoint\" : \"Mouse Count\"})"
   ]
  },
  {
   "cell_type": "code",
   "execution_count": 267,
   "metadata": {},
   "outputs": [
    {
     "data": {
      "text/plain": [
       "1906"
      ]
     },
     "execution_count": 267,
     "metadata": {},
     "output_type": "execute_result"
    }
   ],
   "source": [
    "#Getting mouse counts\n",
    "Mouse_count = Merged_Data[\"Mouse ID\"].count()\n",
    "Mouse_count"
   ]
  },
  {
   "cell_type": "code",
   "execution_count": 268,
   "metadata": {},
   "outputs": [
    {
     "data": {
      "text/html": [
       "<div>\n",
       "<style scoped>\n",
       "    .dataframe tbody tr th:only-of-type {\n",
       "        vertical-align: middle;\n",
       "    }\n",
       "\n",
       "    .dataframe tbody tr th {\n",
       "        vertical-align: top;\n",
       "    }\n",
       "\n",
       "    .dataframe thead th {\n",
       "        text-align: right;\n",
       "    }\n",
       "</style>\n",
       "<table border=\"1\" class=\"dataframe\">\n",
       "  <thead>\n",
       "    <tr style=\"text-align: right;\">\n",
       "      <th></th>\n",
       "      <th></th>\n",
       "      <th>Mouse Count</th>\n",
       "    </tr>\n",
       "    <tr>\n",
       "      <th>Drug</th>\n",
       "      <th>Timepoint</th>\n",
       "      <th></th>\n",
       "    </tr>\n",
       "  </thead>\n",
       "  <tbody>\n",
       "    <tr>\n",
       "      <th rowspan=\"10\" valign=\"top\">Capomulin</th>\n",
       "      <th>0</th>\n",
       "      <td>25</td>\n",
       "    </tr>\n",
       "    <tr>\n",
       "      <th>5</th>\n",
       "      <td>25</td>\n",
       "    </tr>\n",
       "    <tr>\n",
       "      <th>10</th>\n",
       "      <td>25</td>\n",
       "    </tr>\n",
       "    <tr>\n",
       "      <th>15</th>\n",
       "      <td>24</td>\n",
       "    </tr>\n",
       "    <tr>\n",
       "      <th>20</th>\n",
       "      <td>23</td>\n",
       "    </tr>\n",
       "    <tr>\n",
       "      <th>25</th>\n",
       "      <td>22</td>\n",
       "    </tr>\n",
       "    <tr>\n",
       "      <th>30</th>\n",
       "      <td>22</td>\n",
       "    </tr>\n",
       "    <tr>\n",
       "      <th>35</th>\n",
       "      <td>22</td>\n",
       "    </tr>\n",
       "    <tr>\n",
       "      <th>40</th>\n",
       "      <td>21</td>\n",
       "    </tr>\n",
       "    <tr>\n",
       "      <th>45</th>\n",
       "      <td>21</td>\n",
       "    </tr>\n",
       "    <tr>\n",
       "      <th rowspan=\"10\" valign=\"top\">Ceftamin</th>\n",
       "      <th>0</th>\n",
       "      <td>25</td>\n",
       "    </tr>\n",
       "    <tr>\n",
       "      <th>5</th>\n",
       "      <td>21</td>\n",
       "    </tr>\n",
       "    <tr>\n",
       "      <th>10</th>\n",
       "      <td>20</td>\n",
       "    </tr>\n",
       "    <tr>\n",
       "      <th>15</th>\n",
       "      <td>19</td>\n",
       "    </tr>\n",
       "    <tr>\n",
       "      <th>20</th>\n",
       "      <td>18</td>\n",
       "    </tr>\n",
       "    <tr>\n",
       "      <th>25</th>\n",
       "      <td>18</td>\n",
       "    </tr>\n",
       "    <tr>\n",
       "      <th>30</th>\n",
       "      <td>16</td>\n",
       "    </tr>\n",
       "    <tr>\n",
       "      <th>35</th>\n",
       "      <td>14</td>\n",
       "    </tr>\n",
       "    <tr>\n",
       "      <th>40</th>\n",
       "      <td>14</td>\n",
       "    </tr>\n",
       "    <tr>\n",
       "      <th>45</th>\n",
       "      <td>13</td>\n",
       "    </tr>\n",
       "  </tbody>\n",
       "</table>\n",
       "</div>"
      ],
      "text/plain": [
       "                     Mouse Count\n",
       "Drug      Timepoint             \n",
       "Capomulin 0                   25\n",
       "          5                   25\n",
       "          10                  25\n",
       "          15                  24\n",
       "          20                  23\n",
       "          25                  22\n",
       "          30                  22\n",
       "          35                  22\n",
       "          40                  21\n",
       "          45                  21\n",
       "Ceftamin  0                   25\n",
       "          5                   21\n",
       "          10                  20\n",
       "          15                  19\n",
       "          20                  18\n",
       "          25                  18\n",
       "          30                  16\n",
       "          35                  14\n",
       "          40                  14\n",
       "          45                  13"
      ]
     },
     "execution_count": 268,
     "metadata": {},
     "output_type": "execute_result"
    }
   ],
   "source": [
    "#Getting survial count per types of treatments\n",
    "Survival_Count.head(20)"
   ]
  },
  {
   "cell_type": "code",
   "execution_count": 269,
   "metadata": {},
   "outputs": [],
   "source": [
    "#Getting survival count per each drug types \n",
    "Cap_Mouse_Count = Survival_Count.loc[\"Capomulin\", :]\n",
    "Cef_Mouse_Count = Survival_Count.loc[\"Ceftamin\", :]\n",
    "Inf_Mouse_Count = Survival_Count.loc[\"Infubinol\", :]\n",
    "Ram_Mouse_Count = Survival_Count.loc[\"Ramicane\", :]\n",
    "Ste_Mouse_Count = Survival_Count.loc[\"Stelasyn\", :]\n",
    "Zon_Mouse_Count = Survival_Count.loc[\"Zoniferol\", :]"
   ]
  },
  {
   "cell_type": "code",
   "execution_count": 270,
   "metadata": {},
   "outputs": [
    {
     "data": {
      "image/png": "[encoded data removed]",
      "text/plain": [
       "<Figure size 432x288 with 1 Axes>"
      ]
     },
     "metadata": {
      "needs_background": "light"
     },
     "output_type": "display_data"
    }
   ],
   "source": [
    "#Creating the scatter plots \n",
    "Cap_Mouse_Count = plt.scatter(timepoints, Cap_Mouse_Count, marker = \">\", label = \"Capomulin\", alpha = 1)\n",
    "Cef_Mouse_Count = plt.scatter(timepoints, Cef_Mouse_Count, marker = \"<\", label = \"Ceftamin\", alpha = 1)\n",
    "Inf_Mouse_Count = plt.scatter(timepoints, Inf_Mouse_Count, marker = \"<\", label = \"Infubinol\", alpha = 1)\n",
    "Ram_Mouse_Count = plt.scatter(timepoints, Ram_Mouse_Count, marker = \">\", label = \"Ramicane\", alpha = 1)\n",
    "Ste_Mouse_Count = plt.scatter(timepoints, Ste_Mouse_Count, marker = \"x\", label = \"Stelasyn\", alpha = 1)\n",
    "Zon_Mouse_Count = plt.scatter(timepoints, Zon_Mouse_Count, marker = \"+\", label = \"Zoniferol\", alpha = 1)\n",
    "plt.title(\"Surival\")\n",
    "plt.xlabel(\"Days\")\n",
    "plt.ylabel(\"Types of Cancer\")\n",
    "plt.legend(loc=\"best\")\n",
    "\n",
    "plt.show()"
   ]
  },
  {
   "cell_type": "markdown",
   "metadata": {},
   "source": [
    "### Observations\n",
    "* Survival rate declcides with each types of drugs (treatments) overtime"
   ]
  },
  {
   "cell_type": "markdown",
   "metadata": {},
   "source": [
    "#Creating a bar graph that compares the total % \n",
    "#tumor volume change for each drug across the full 45 days."
   ]
  },
  {
   "cell_type": "code",
   "execution_count": 272,
   "metadata": {},
   "outputs": [
    {
     "data": {
      "text/plain": [
       "Drug       Timepoint\n",
       "Zoniferol  0            0.00\n",
       "           5            0.17\n",
       "           10           0.50\n",
       "           15           0.81\n",
       "           20           1.29\n",
       "           25           1.69\n",
       "           30           1.93\n",
       "           35           2.29\n",
       "           40           2.79\n",
       "           45           3.07\n",
       "Name: Metastatic Sites, dtype: float64"
      ]
     },
     "execution_count": 272,
     "metadata": {},
     "output_type": "execute_result"
    }
   ],
   "source": [
    "Zon_Mast_avg"
   ]
  },
  {
   "cell_type": "code",
   "execution_count": 286,
   "metadata": {},
   "outputs": [],
   "source": [
    "#Percent chtumor_voange\n",
    "Cap_tumor_vol_avg_percent_change = ((Cap_tumor_vol_avg[9] - Cap_tumor_vol_avg[1]/Cap_tumor_vol_avg[1])*100).round(0)\n",
    "Cef_tumor_vol_avg_percent_change = ((Cef_tumor_vol_avg[9] - Cef_tumor_vol_avg[1]/Cef_tumor_vol_avg[1])*100).round(0)\n",
    "Inf_tumor_vol_avg_percent_change = ((Inf_tumor_vol_avg[9] - Inf_tumor_vol_avg[1]/Inf_tumor_vol_avg[1])*100).round(0)\n",
    "Ram_tumor_vol_avg_percent_change = ((Ram_tumor_vol_avg[9] - Ram_tumor_vol_avg[1]/Ram_tumor_vol_avg [1])*100).round(0)\n",
    "Ste_tumor_vol_avg_percent_change = ((Ste_tumor_vol_avg[9] - Ste_tumor_vol_avg[1]/Ste_tumor_vol_avg [1])*100).round(0)\n",
    "Zon_tumor_vol_avg_percent_change = ((Zon_tumor_vol_avg[9] - Zon_tumor_vol_avg[1]/Zon_tumor_vol_avg [1])*100).round(0)"
   ]
  },
  {
   "cell_type": "code",
   "execution_count": 287,
   "metadata": {},
   "outputs": [],
   "source": [
    "Tumor_avg_percent_change_List = [Cap_tumor_vol_avg_percent_change,\n",
    "                                   Cef_tumor_vol_avg_percent_change,\n",
    "                                   Inf_tumor_vol_avg_percent_change,\n",
    "                                   Ram_tumor_vol_avg_percent_change,\n",
    "                                   Ste_tumor_vol_avg_percent_change,\n",
    "                                   Zon_tumor_vol_avg_percent_change]\n"
   ]
  },
  {
   "cell_type": "code",
   "execution_count": 288,
   "metadata": {},
   "outputs": [
    {
     "data": {
      "text/plain": [
       "[3524.0, 6313.0, 6476.0, 3396.0, 6744.0, 6496.0]"
      ]
     },
     "execution_count": 288,
     "metadata": {},
     "output_type": "execute_result"
    }
   ],
   "source": [
    "Tumor_avg_percent_change_List"
   ]
  },
  {
   "cell_type": "code",
   "execution_count": 289,
   "metadata": {},
   "outputs": [
    {
     "data": {
      "text/plain": [
       "['Capomulin', 'Ceftamin', 'Infubinol', 'Ramicane', 'Placebo', 'Zoniferol']"
      ]
     },
     "execution_count": 289,
     "metadata": {},
     "output_type": "execute_result"
    }
   ],
   "source": [
    "Drug_list"
   ]
  },
  {
   "cell_type": "code",
   "execution_count": 291,
   "metadata": {},
   "outputs": [
    {
     "data": {
      "text/html": [
       "<div>\n",
       "<style scoped>\n",
       "    .dataframe tbody tr th:only-of-type {\n",
       "        vertical-align: middle;\n",
       "    }\n",
       "\n",
       "    .dataframe tbody tr th {\n",
       "        vertical-align: top;\n",
       "    }\n",
       "\n",
       "    .dataframe thead th {\n",
       "        text-align: right;\n",
       "    }\n",
       "</style>\n",
       "<table border=\"1\" class=\"dataframe\">\n",
       "  <thead>\n",
       "    <tr style=\"text-align: right;\">\n",
       "      <th></th>\n",
       "      <th>Drug</th>\n",
       "      <th>Tumor_Per_Change</th>\n",
       "    </tr>\n",
       "  </thead>\n",
       "  <tbody>\n",
       "    <tr>\n",
       "      <th>0</th>\n",
       "      <td>Capomulin</td>\n",
       "      <td>3524.0</td>\n",
       "    </tr>\n",
       "    <tr>\n",
       "      <th>1</th>\n",
       "      <td>Ceftamin</td>\n",
       "      <td>6313.0</td>\n",
       "    </tr>\n",
       "    <tr>\n",
       "      <th>2</th>\n",
       "      <td>Infubinol</td>\n",
       "      <td>6476.0</td>\n",
       "    </tr>\n",
       "    <tr>\n",
       "      <th>3</th>\n",
       "      <td>Ramicane</td>\n",
       "      <td>3396.0</td>\n",
       "    </tr>\n",
       "    <tr>\n",
       "      <th>4</th>\n",
       "      <td>Placebo</td>\n",
       "      <td>6744.0</td>\n",
       "    </tr>\n",
       "  </tbody>\n",
       "</table>\n",
       "</div>"
      ],
      "text/plain": [
       "        Drug  Tumor_Per_Change\n",
       "0  Capomulin            3524.0\n",
       "1   Ceftamin            6313.0\n",
       "2  Infubinol            6476.0\n",
       "3   Ramicane            3396.0\n",
       "4    Placebo            6744.0"
      ]
     },
     "execution_count": 291,
     "metadata": {},
     "output_type": "execute_result"
    }
   ],
   "source": [
    "Tum_Per_Data = pd.DataFrame({\"Drug\" : Drug_list, \"Tumor_Per_Change\": Tumor_avg_percent_change_List}).round(0)\n",
    "Tum_Per_Data.head()"
   ]
  },
  {
   "cell_type": "code",
   "execution_count": 292,
   "metadata": {},
   "outputs": [
    {
     "data": {
      "image/png": "[encoded data removed]",
      "text/plain": [
       "<Figure size 432x288 with 1 Axes>"
      ]
     },
     "metadata": {
      "needs_background": "light"
     },
     "output_type": "display_data"
    }
   ],
   "source": [
    "#plot tumor % table as bar chart\n",
    "tumorBarChart = plt.bar(Tum_Per_Data[\"Drug\"], Tum_Per_Data[\"Tumor_Per_Change\"])\n",
    "\n",
    "#format color and position of text based on positive or negative change\n",
    "for i in range(len(Drug_list)):\n",
    "    if Tumor_avg_percent_change_List[i] < 0:\n",
    "        tumorBarChart[i].set_color(\"yellow\")\n",
    "        percText = format(tumorPercList[i] / 100, \".1%\")\n",
    "        plt.text(-.2 + i, -5, percText)\n",
    "    else:\n",
    "        tumorBarChart[i].set_color(\"green\")\n",
    "        percText = format(Tumor_avg_percent_change_List[i] / 100, \".1%\")\n",
    "        plt.text(-.2 + i, 2, percText, color = \"w\")\n",
    "        \n",
    "#formatting and titles\n",
    "plt.hlines(0, -.2, 4.5, alpha=0.25)\n",
    "plt.xlim(-.5, 3.5)\n",
    "plt.title(\"Tumor % Total Change by Drug\")\n",
    "plt.xlabel(\"Drug\")\n",
    "plt.ylabel(\"Tumor % Change\")\n",
    "plt.tight_layout()\n",
    "plt.show()\n"
   ]
  },
  {
   "cell_type": "markdown",
   "metadata": {},
   "source": [
    "### Observations:\n",
    "\n",
    "* Two of the drugs (Ceftamin and Infubinol) show higher tumor change compared to Capomulin and Ramicane. "
   ]
  },
  {
   "cell_type": "code",
   "execution_count": null,
   "metadata": {},
   "outputs": [],
   "source": []
  }
 ],
 "metadata": {
  "kernelspec": {
   "display_name": "Python [conda env:PythonData]",
   "language": "python",
   "name": "conda-env-PythonData-py"
  },
  "language_info": {
   "codemirror_mode": {
    "name": "ipython",
    "version": 3
   },
   "file_extension": ".py",
   "mimetype": "text/x-python",
   "name": "python",
   "nbconvert_exporter": "python",
   "pygments_lexer": "ipython3",
   "version": "3.6.7"
  }
 },
 "nbformat": 4,
 "nbformat_minor": 2
}
